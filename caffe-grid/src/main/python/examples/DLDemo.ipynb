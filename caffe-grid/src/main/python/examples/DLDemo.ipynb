{
 "cells": [
  {
   "cell_type": "markdown",
   "metadata": {},
   "source": [
    "# MNIST - Handwriting Recognition"
   ]
  },
  {
   "cell_type": "code",
   "execution_count": 19,
   "metadata": {
    "collapsed": false
   },
   "outputs": [],
   "source": [
    "from com.yahoo.ml.caffe.DisplayUtils import *\n",
    "from com.yahoo.ml.caffe.CaffeOnSpark import *\n",
    "from com.yahoo.ml.caffe.Config import *\n",
    "from com.yahoo.ml.caffe.DataSource import *\n",
    "import caffe\n"
   ]
  },
  {
   "cell_type": "markdown",
   "metadata": {},
   "source": [
    "## Training Data"
   ]
  },
  {
   "cell_type": "code",
   "execution_count": 20,
   "metadata": {
    "collapsed": false
   },
   "outputs": [],
   "source": [
    "df = sqlCtx.read.parquet('/Users/mridul/bigml/mnist_test_dataframe')"
   ]
  },
  {
   "cell_type": "code",
   "execution_count": 21,
   "metadata": {
    "collapsed": false
   },
   "outputs": [
    {
     "data": {
      "text/html": [
       "<table><tr><th>Index</th><th>Label</th><th>Image</th><tr><td>00000000</td><td>7</td><td><img src='data:image/png;base64,iVBORw0KGgoAAAANSUhEUgAAABwAAAAcCAAAAABXZoBIAAAAxUlEQVR4nGNgGDaAEUKFpD77sfTFHeyS9xQYGBg+X4UKPuk6w8DAwMDAAuGm6l/TMnSweCzLwPDntSTDozPIOhkYGBgYBA3PmDIw/Lh1XShnGi5nBP+9KIRLTuzl/2AokwlDMlv0/U1cGq1//rPDJcfQ+m83Ky45zrM/rHBqrPu3Daec9+8PlrjkhO/+W4ZLjvn0v9vKuCTV/v3zxSUn/+BfMSMuydZ//0xwydl+QpdEClsbHoa7X1AkWZA5F53f4TIWEwAAaRE8kJuHrgAAAAAASUVORK5CYII=' /></td></tr><tr><td>00000001</td><td>2</td><td><img src='data:image/png;base64,iVBORw0KGgoAAAANSUhEUgAAABwAAAAcCAAAAABXZoBIAAAA6ElEQVR4nGNgoAlgRDBLOPVCGKYfX4xN2cq/f//+/fv3lhwOuat9G/7+rcKUM/n195ICDwPbub89mJK+vy9JMjAwVP3464jFWHkhBgYGhot/sUoyMDAwMJR+/3uMC4ecz/e/z+2R+EwormJjWHkQh8YN3/7O58EhJ/nq70tlXK459vdvLy45vx9/9+IyVPgEHo1tf/+uxaWR4cffv5LoYixIbKHfDAwMH3+z8jMIFjIw/C3/hix5iYGBgWH1c/FwCPdFKzwlrPNHqPrzj2HTGYYjxxHJpIyVgUE7nIFh3gOGdddxuWyAAQCfcVM+FkfDOQAAAABJRU5ErkJggg==' /></td></tr><tr><td>00000002</td><td>1</td><td><img src='data:image/png;base64,iVBORw0KGgoAAAANSUhEUgAAABwAAAAcCAAAAABXZoBIAAAAiElEQVR4nGNgGARA7V8unM2ELmn47ylune0fccvpfpmG4KAbq861ErfOU/e5ccop/LuBxEMz1p7hNW5JXYYunKZavj3LgVOns9CNHzgl9f+vwWmqxIvrKHwUnQliJ3BLyjO8x2kqw5N/Tjh12orj1sfQ++8sMy6dXF4Ma/7i0sh6bAMXHnPpBAAPgx/ARH1j7wAAAABJRU5ErkJggg==' /></td></tr><tr><td>00000003</td><td>0</td><td><img src='data:image/png;base64,iVBORw0KGgoAAAANSUhEUgAAABwAAAAcCAAAAABXZoBIAAAA70lEQVR4nMXQsWoCQRQF0JvBNNrGdjcgIR8gJJVrqRZCfkMkgn+QlEIIAcHaHzClVWySJkmXSgxqIbKCbcrLxRSbNe7M2uqr7syZefAecOTK9fTp78MLUs2ds9nJ+b71OPMfWzdXAALz9ZrSVCQpclp0bbiRpPVckmPlmUh268Ed2bDsfEVx2skCfsif9qkzxcsZAOCWYsHGDy+K/nuM2zmNuV5E6cQYc5/4+UDG0W07iTFfXlGhl45PJGelKGeQrOElgPFb8vJbqtWW0kYpG2qT8W7ZtdEP/zAcFbI2IniMsOkIAKD6zEGl6qXjweoXXfV/5XmKZEMAAAAASUVORK5CYII=' /></td></tr><tr><td>00000004</td><td>4</td><td><img src='data:image/png;base64,iVBORw0KGgoAAAANSUhEUgAAABwAAAAcCAAAAABXZoBIAAAA2klEQVR4nGNgGLzA6AGU4SYLZTAhJN3ZoQy/bgxJFi8Y64wWN7qko+V8KEtIiwvNRt03N3mgzAN/RNEkV3w3hWn8/xdNMuTTZRiz9+9eVlTJlX+yoCyFF7+cUOX4H/6BMdv+wM2AupZdegVMRJnhCppzOM9cFIKwxP7+zYaJskCo73eDt/YxMDDoKMv/Z/iPppNBc9XXP3/+/Hnx/PefP5wwQUa4tKEyAwPDGoaF0TDTsID6P3900exEAEZGhss4Jf8jOYcJXZKD4QdOKxlevMnHLbnZCbcclQAA/k48Hcv/z+EAAAAASUVORK5CYII=' /></td></tr></table>"
      ],
      "text/plain": [
       "<IPython.core.display.HTML object>"
      ]
     },
     "execution_count": 21,
     "metadata": {},
     "output_type": "execute_result"
    }
   ],
   "source": [
    "show_df(df,5)"
   ]
  },
  {
   "cell_type": "markdown",
   "metadata": {},
   "source": [
    "## Define your network"
   ]
  },
  {
   "cell_type": "code",
   "execution_count": 22,
   "metadata": {
    "collapsed": false
   },
   "outputs": [],
   "source": [
    "from caffe import layers as L, params as P\n",
    "n = caffe.NetSpec()\n",
    "n.data, n.label = L.MemoryData(batch_size=64, channels=1,height=28,width=28, \n",
    "                      source = '/Users/mridul/bigml/mnist_train_dataframe',\n",
    "                      share_in_parallel = False,\n",
    "                      source_class=\"com.yahoo.ml.caffe.ImageDataFrame\",\n",
    "                      transform_param=dict(scale=0.00390625),\n",
    "                      include=dict(phase=0),ntop=2)\n",
    "\n",
    "train = str(n.to_proto())\n",
    "n.data, n.label = L.MemoryData(batch_size=100, channels=1,height=28,width=28, \n",
    "                      source = '/Users/mridul/bigml/mnist_test_dataframe',\n",
    "                      share_in_parallel = False,\n",
    "                      source_class=\"com.yahoo.ml.caffe.ImageDataFrame\",\n",
    "                      transform_param=dict(scale=0.00390625),\n",
    "                      include=dict(phase=1),ntop=2)\n",
    "\n",
    "n.conv1 = L.Convolution(n.data, kernel_size=5, num_output=20, weight_filler=dict(type='xavier'),\n",
    "                        bias_filler=dict(type='constant'),\n",
    "                        param=[dict(lr_mult=1),dict(lr_mult=2)])\n",
    "n.pool1 = L.Pooling(n.conv1, kernel_size=2, stride=2, pool=P.Pooling.MAX)\n",
    "n.conv2 = L.Convolution(n.pool1, kernel_size=5, num_output=50, weight_filler=dict(type='xavier'),\n",
    "                        bias_filler=dict(type='constant'))\n",
    "n.pool2 = L.Pooling(n.conv2, kernel_size=2, stride=2, pool=P.Pooling.MAX)\n",
    "n.ip1 =   L.InnerProduct(n.pool2, num_output=500, weight_filler=dict(type='xavier'),\n",
    "                        bias_filler=dict(type='constant'))\n",
    "n.relu1 = L.ReLU(n.ip1, in_place=True)\n",
    "n.ip2 = L.InnerProduct(n.relu1, num_output=10, weight_filler=dict(type='xavier'),\n",
    "                      bias_filler=dict(type='constant'),param=[dict(lr_mult=1),dict(lr_mult=2)])\n",
    "n.accuracy = L.Accuracy(n.ip2, n.label,include=dict(phase=1))\n",
    "n.loss =  L.SoftmaxWithLoss(n.ip2, n.label)\n",
    "    \n",
    "test = str(n.to_proto())\n"
   ]
  },
  {
   "cell_type": "code",
   "execution_count": 23,
   "metadata": {
    "collapsed": false
   },
   "outputs": [],
   "source": [
    "with open('/Users/mridul/bigml/CaffeOnSpark/data/lenet_dataframe_train_test.prototxt', 'w') as f:\n",
    "    f.write('name:\"LeNet\"\\n')\n",
    "    f.write(train)\n",
    "    f.write(test)\n",
    "    f.close()\n",
    "    \n"
   ]
  },
  {
   "cell_type": "code",
   "execution_count": null,
   "metadata": {
    "collapsed": false
   },
   "outputs": [],
   "source": [
    "show_network('/Users/mridul/bigml/CaffeOnSpark/data/lenet_dataframe_train_test.prototxt','LR')"
   ]
  },
  {
   "cell_type": "markdown",
   "metadata": {},
   "source": [
    "# Training"
   ]
  },
  {
   "cell_type": "code",
   "execution_count": 25,
   "metadata": {
    "collapsed": true
   },
   "outputs": [],
   "source": [
    "cos=CaffeOnSpark(sc,sqlContext)"
   ]
  },
  {
   "cell_type": "code",
   "execution_count": 26,
   "metadata": {
    "collapsed": false
   },
   "outputs": [],
   "source": [
    "args={}\n",
    "args['conf']='/Users/mridul/bigml/CaffeOnSpark/data/lenet_dataframe_solver.prototxt'\n",
    "args['model']='file:///tmp/lenet.model'\n",
    "args['devices']='1'\n",
    "args['clusterSize']='1'\n",
    "cfg=Config(sc,args)"
   ]
  },
  {
   "cell_type": "code",
   "execution_count": 27,
   "metadata": {
    "collapsed": false
   },
   "outputs": [],
   "source": [
    "dl_train_source = DataSource(sc).getSource(cfg,True)"
   ]
  },
  {
   "cell_type": "code",
   "execution_count": 28,
   "metadata": {
    "collapsed": false
   },
   "outputs": [],
   "source": [
    "cos.train(dl_train_source)"
   ]
  },
  {
   "cell_type": "markdown",
   "metadata": {},
   "source": [
    "# Test"
   ]
  },
  {
   "cell_type": "code",
   "execution_count": 29,
   "metadata": {
    "collapsed": false
   },
   "outputs": [],
   "source": [
    "dl_test_source = DataSource(sc).getSource(cfg,False)"
   ]
  },
  {
   "cell_type": "code",
   "execution_count": 30,
   "metadata": {
    "collapsed": true
   },
   "outputs": [],
   "source": [
    "test_result=cos.test(dl_test_source)"
   ]
  },
  {
   "cell_type": "code",
   "execution_count": 31,
   "metadata": {
    "collapsed": false
   },
   "outputs": [
    {
     "data": {
      "text/plain": [
       "{u'accuracy': [0.9907000052928925], u'loss': [0.02928926563981804]}"
      ]
     },
     "execution_count": 31,
     "metadata": {},
     "output_type": "execute_result"
    }
   ],
   "source": [
    "test_result"
   ]
  },
  {
   "cell_type": "markdown",
   "metadata": {},
   "source": [
    "# Feature Extraction"
   ]
  },
  {
   "cell_type": "code",
   "execution_count": 32,
   "metadata": {
    "collapsed": false
   },
   "outputs": [],
   "source": [
    "args['features']='accuracy,ip1,ip2'\n",
    "args['label']='label'\n",
    "cfg=Config(sc,args)"
   ]
  },
  {
   "cell_type": "code",
   "execution_count": 33,
   "metadata": {
    "collapsed": true
   },
   "outputs": [],
   "source": [
    "dl_feature_source = DataSource(sc).getSource(cfg,False)"
   ]
  },
  {
   "cell_type": "code",
   "execution_count": 34,
   "metadata": {
    "collapsed": false
   },
   "outputs": [],
   "source": [
    "f=cos.features(dl_feature_source)"
   ]
  },
  {
   "cell_type": "code",
   "execution_count": 35,
   "metadata": {
    "collapsed": false
   },
   "outputs": [
    {
     "name": "stdout",
     "output_type": "stream",
     "text": [
      "+--------+--------+--------------------+--------------------+-----+\n",
      "|SampleID|accuracy|                 ip1|                 ip2|label|\n",
      "+--------+--------+--------------------+--------------------+-----+\n",
      "|00000000|   [1.0]|[3.6676927, 0.0, ...|[-3.4122076, -0.7...|[7.0]|\n",
      "|00000001|   [1.0]|[0.0, 0.0, 0.0, 0...|[5.695843, 6.8152...|[2.0]|\n",
      "|00000002|   [1.0]|[0.0, 0.0, 2.2626...|[-2.0900922, 11.5...|[1.0]|\n",
      "|00000003|   [1.0]|[2.6771448, 0.0, ...|[14.722494, -4.43...|[0.0]|\n",
      "|00000004|   [1.0]|[0.23194918, 0.0,...|[-2.8665361, -3.2...|[4.0]|\n",
      "+--------+--------+--------------------+--------------------+-----+\n",
      "only showing top 5 rows\n",
      "\n"
     ]
    }
   ],
   "source": [
    "f.show(5)"
   ]
  },
  {
   "cell_type": "code",
   "execution_count": 36,
   "metadata": {
    "collapsed": false
   },
   "outputs": [
    {
     "data": {
      "text/html": [
       "<div>\n",
       "<table border=\"1\" class=\"dataframe\">\n",
       "  <thead>\n",
       "    <tr style=\"text-align: right;\">\n",
       "      <th></th>\n",
       "      <th>SampleID</th>\n",
       "      <th>Accuracy</th>\n",
       "      <th>Scores</th>\n",
       "      <th>MaxScore</th>\n",
       "      <th>Prediction</th>\n",
       "      <th>Label</th>\n",
       "    </tr>\n",
       "  </thead>\n",
       "  <tbody>\n",
       "    <tr>\n",
       "      <th>0</th>\n",
       "      <td>00000000</td>\n",
       "      <td>1</td>\n",
       "      <td>[-3.41220760345, -0.772891402245, 0.7426052689...</td>\n",
       "      <td>15.277498</td>\n",
       "      <td>7</td>\n",
       "      <td>7</td>\n",
       "    </tr>\n",
       "    <tr>\n",
       "      <th>1</th>\n",
       "      <td>00000001</td>\n",
       "      <td>1</td>\n",
       "      <td>[5.69584321976, 6.81526565552, 20.2332878113, ...</td>\n",
       "      <td>20.233288</td>\n",
       "      <td>2</td>\n",
       "      <td>2</td>\n",
       "    </tr>\n",
       "    <tr>\n",
       "      <th>2</th>\n",
       "      <td>00000002</td>\n",
       "      <td>1</td>\n",
       "      <td>[-2.09009218216, 11.5996389389, -1.10666882992...</td>\n",
       "      <td>11.599639</td>\n",
       "      <td>1</td>\n",
       "      <td>1</td>\n",
       "    </tr>\n",
       "    <tr>\n",
       "      <th>3</th>\n",
       "      <td>00000003</td>\n",
       "      <td>1</td>\n",
       "      <td>[14.7224941254, -4.43603801727, -0.56451821327...</td>\n",
       "      <td>14.722494</td>\n",
       "      <td>0</td>\n",
       "      <td>0</td>\n",
       "    </tr>\n",
       "    <tr>\n",
       "      <th>4</th>\n",
       "      <td>00000004</td>\n",
       "      <td>1</td>\n",
       "      <td>[-2.86653614044, -3.27059435844, -1.7027045488...</td>\n",
       "      <td>13.648049</td>\n",
       "      <td>4</td>\n",
       "      <td>4</td>\n",
       "    </tr>\n",
       "  </tbody>\n",
       "</table>\n",
       "</div>"
      ],
      "text/plain": [
       "   SampleID  Accuracy                                             Scores  \\\n",
       "0  00000000         1  [-3.41220760345, -0.772891402245, 0.7426052689...   \n",
       "1  00000001         1  [5.69584321976, 6.81526565552, 20.2332878113, ...   \n",
       "2  00000002         1  [-2.09009218216, 11.5996389389, -1.10666882992...   \n",
       "3  00000003         1  [14.7224941254, -4.43603801727, -0.56451821327...   \n",
       "4  00000004         1  [-2.86653614044, -3.27059435844, -1.7027045488...   \n",
       "\n",
       "    MaxScore  Prediction  Label  \n",
       "0  15.277498           7      7  \n",
       "1  20.233288           2      2  \n",
       "2  11.599639           1      1  \n",
       "3  14.722494           0      0  \n",
       "4  13.648049           4      4  "
      ]
     },
     "execution_count": 36,
     "metadata": {},
     "output_type": "execute_result"
    }
   ],
   "source": [
    "def maxScoreAndIndex(array_of_scores): \n",
    "    return max(enumerate(array_of_scores), key=lambda x: x[1])\n",
    "g = sqlContext.createDataFrame(f.map(lambda row: (\n",
    "            row.SampleID,\n",
    "            row.accuracy[0],\n",
    "            row.ip2,\n",
    "            maxScoreAndIndex(row.ip2)[1],\n",
    "            maxScoreAndIndex(row.ip2)[0],\n",
    "            int(row.label[0]))), \n",
    "            [\"SampleID\", \"Accuracy\", \"Scores\", \"MaxScore\", \"Prediction\", \"Label\"])\n",
    "g.toPandas()[:5]"
   ]
  },
  {
   "cell_type": "markdown",
   "metadata": {
    "collapsed": true
   },
   "source": [
    "###  Logistic Regression using MLlib"
   ]
  },
  {
   "cell_type": "code",
   "execution_count": 37,
   "metadata": {
    "collapsed": true
   },
   "outputs": [],
   "source": [
    "from pyspark.mllib.linalg import Vectors\n",
    "from pyspark.mllib.regression import LabeledPoint\n",
    "from pyspark.mllib.classification import LogisticRegressionWithLBFGS"
   ]
  },
  {
   "cell_type": "code",
   "execution_count": 38,
   "metadata": {
    "collapsed": true
   },
   "outputs": [],
   "source": [
    "data = f.map(lambda row: LabeledPoint(row.label[0], Vectors.dense(row.ip1)))"
   ]
  },
  {
   "cell_type": "code",
   "execution_count": 39,
   "metadata": {
    "collapsed": false
   },
   "outputs": [],
   "source": [
    "lr = LogisticRegressionWithLBFGS.train(data, numClasses=10, iterations=10)"
   ]
  },
  {
   "cell_type": "code",
   "execution_count": 40,
   "metadata": {
    "collapsed": true
   },
   "outputs": [],
   "source": [
    "predictions = lr.predict(data.map(lambda pt : pt.features))"
   ]
  },
  {
   "cell_type": "code",
   "execution_count": 41,
   "metadata": {
    "collapsed": false
   },
   "outputs": [
    {
     "data": {
      "text/plain": [
       "[7, 2, 1, 0, 4]"
      ]
     },
     "execution_count": 41,
     "metadata": {},
     "output_type": "execute_result"
    }
   ],
   "source": [
    "predictions.take(5)"
   ]
  },
  {
   "cell_type": "code",
   "execution_count": null,
   "metadata": {
    "collapsed": true
   },
   "outputs": [],
   "source": []
  }
 ],
 "metadata": {
  "kernelspec": {
   "display_name": "Python 2",
   "language": "python",
   "name": "python2"
  },
  "language_info": {
   "codemirror_mode": {
    "name": "ipython",
    "version": 2
   },
   "file_extension": ".py",
   "mimetype": "text/x-python",
   "name": "python",
   "nbconvert_exporter": "python",
   "pygments_lexer": "ipython2",
   "version": "2.7.10"
  }
 },
 "nbformat": 4,
 "nbformat_minor": 0
}
